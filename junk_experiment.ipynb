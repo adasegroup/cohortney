{
 "cells": [
  {
   "cell_type": "code",
   "execution_count": 11,
   "metadata": {},
   "outputs": [],
   "source": [
    "import os\n",
    "import torch\n",
    "import time\n",
    "import numpy as np\n",
    "from src.utils.metrics import purity, info_score\n",
    "#from src.utils.os_utils import create_folder\n",
    "import math\n",
    "import pickle, json\n",
    "from sklearn.cluster import KMeans\n",
    "from src.networks.lstm_pp import LSTMMultiplePointProcesses \n",
    "from src.dataset.random_seq import RandomGeneratedSequences\n",
    "from junk_trainer import TrainerClusterwise\n",
    "import tqdm"
   ]
  },
  {
   "cell_type": "code",
   "execution_count": 6,
   "metadata": {},
   "outputs": [],
   "source": [
    "#path = 'src/dataset/sin_K2_C5/'\n",
    "n_steps = 8\n",
    "n_clusters = 10\n",
    "n_runs = 10\n",
    "n_events = 7\n",
    "dataset = RandomGeneratedSequences(path, num_of_event_types=n_events, num_of_steps=n_steps)\n",
    "device = torch.device('cuda:0' if torch.cuda.is_available() else 'cpu')"
   ]
  },
  {
   "cell_type": "code",
   "execution_count": 7,
   "metadata": {},
   "outputs": [],
   "source": [
    "data, target = [], []\n",
    "for x, y in dataset:\n",
    "    data.append(x), target.append(y)\n",
    "data = torch.stack(data)\n",
    "target = torch.stack(target)"
   ]
  },
  {
   "cell_type": "code",
   "execution_count": 8,
   "metadata": {},
   "outputs": [],
   "source": [
    "def create_folder(path):\n",
    "    try:\n",
    "        os.mkdir(path)\n",
    "    except OSError:\n",
    "        print (\"Creation of the directory %s failed\" % path)\n",
    "    else:\n",
    "        print (\"Successfully created the directory %s \" % path)"
   ]
  },
  {
   "cell_type": "code",
   "execution_count": 17,
   "metadata": {},
   "outputs": [
    {
     "name": "stderr",
     "output_type": "stream",
     "text": [
      "  0%|                                                                                           | 0/10 [00:00<?, ?it/s]"
     ]
    },
    {
     "name": "stdout",
     "output_type": "stream",
     "text": [
      "Successfully created the directory experiments \n",
      "Successfully created the directory experiments/results \n",
      "Successfully created the directory experiments/results/exp_0 \n"
     ]
    },
    {
     "name": "stderr",
     "output_type": "stream",
     "text": [
      "  0%|                                                                                           | 0/10 [08:17<?, ?it/s]\n"
     ]
    },
    {
     "ename": "NameError",
     "evalue": "name 'args' is not defined",
     "output_type": "error",
     "traceback": [
      "\u001b[1;31m---------------------------------------------------------------------------\u001b[0m",
      "\u001b[1;31mNameError\u001b[0m                                 Traceback (most recent call last)",
      "\u001b[1;32m<ipython-input-17-8fcfddd9dce6>\u001b[0m in \u001b[0;36m<module>\u001b[1;34m\u001b[0m\n\u001b[0;32m     29\u001b[0m         \u001b[0mpickle\u001b[0m\u001b[1;33m.\u001b[0m\u001b[0mdump\u001b[0m\u001b[1;33m(\u001b[0m\u001b[0mstats\u001b[0m\u001b[1;33m,\u001b[0m \u001b[0mf\u001b[0m\u001b[1;33m)\u001b[0m\u001b[1;33m\u001b[0m\u001b[1;33m\u001b[0m\u001b[0m\n\u001b[0;32m     30\u001b[0m     \u001b[1;32mwith\u001b[0m \u001b[0mopen\u001b[0m\u001b[1;33m(\u001b[0m\u001b[0mexp_folder\u001b[0m \u001b[1;33m+\u001b[0m \u001b[1;34m'/args.json'\u001b[0m\u001b[1;33m,\u001b[0m \u001b[1;34m'w'\u001b[0m\u001b[1;33m)\u001b[0m \u001b[1;32mas\u001b[0m \u001b[0mf\u001b[0m\u001b[1;33m:\u001b[0m\u001b[1;33m\u001b[0m\u001b[1;33m\u001b[0m\u001b[0m\n\u001b[1;32m---> 31\u001b[1;33m         \u001b[0mjson\u001b[0m\u001b[1;33m.\u001b[0m\u001b[0mdump\u001b[0m\u001b[1;33m(\u001b[0m\u001b[0mvars\u001b[0m\u001b[1;33m(\u001b[0m\u001b[0margs\u001b[0m\u001b[1;33m)\u001b[0m\u001b[1;33m,\u001b[0m \u001b[0mf\u001b[0m\u001b[1;33m)\u001b[0m\u001b[1;33m\u001b[0m\u001b[1;33m\u001b[0m\u001b[0m\n\u001b[0m\u001b[0;32m     32\u001b[0m     \u001b[0mtorch\u001b[0m\u001b[1;33m.\u001b[0m\u001b[0msave\u001b[0m\u001b[1;33m(\u001b[0m\u001b[0mtrainer\u001b[0m\u001b[1;33m.\u001b[0m\u001b[0mmodel\u001b[0m\u001b[1;33m,\u001b[0m \u001b[0mexp_folder\u001b[0m \u001b[1;33m+\u001b[0m \u001b[1;34m'/last_model.pt'\u001b[0m\u001b[1;33m)\u001b[0m\u001b[1;33m\u001b[0m\u001b[1;33m\u001b[0m\u001b[0m\n",
      "\u001b[1;31mNameError\u001b[0m: name 'args' is not defined"
     ]
    }
   ],
   "source": [
    "# preparing folders\n",
    "create_folder('experiments')\n",
    "exp_folder = 'experiments/'\n",
    "create_folder('experiments/results')\n",
    "path_to_results = 'experiments/results'\n",
    "\n",
    "# iterations over runs\n",
    "i = 0\n",
    "for i in tqdm.tqdm(range(n_runs)):\n",
    "    model = LSTMMultiplePointProcesses(input_size=n_events+1, hidden_size=20, num_layers=3, num_classes=n_events, num_clusters=n_clusters, n_steps=n_steps).to(device) \n",
    "    optimizer = torch.optim.Adam(model.parameters()) \n",
    "    best_model_path = path_to_results + '/exp_{}'.format(i) + '/best_model.pt'\n",
    "    create_folder(path_to_results + '/exp_{}'.format(i))\n",
    "    exp_folder = path_to_results + '/exp_{}'.format(i)\n",
    "    trainer = TrainerClusterwise(model, optimizer, device, data, n_clusters, target=target)\n",
    "    losses, results, cluster_part, stats = trainer.train()\n",
    "\n",
    "    # results check\n",
    "    if cluster_part is None:\n",
    "        print('Solution failed')\n",
    "        continue\n",
    "\n",
    "    # saving results\n",
    "    with open(exp_folder + '/losses.pkl', 'wb') as f:\n",
    "        pickle.dump(losses, f)\n",
    "    with open(exp_folder + '/results.pkl', 'wb') as f:\n",
    "        pickle.dump(results, f)\n",
    "    with open(exp_folder + '/stats.pkl', 'wb') as f:\n",
    "        pickle.dump(stats, f)\n",
    "    with open(exp_folder + '/args.json', 'w') as f:\n",
    "        json.dump(vars(args), f)\n",
    "    torch.save(trainer.model, exp_folder + '/last_model.pt')"
   ]
  },
  {
   "cell_type": "code",
   "execution_count": null,
   "metadata": {},
   "outputs": [],
   "source": []
  }
 ],
 "metadata": {
  "kernelspec": {
   "display_name": "Python [conda env:cohortney_v2]",
   "language": "python",
   "name": "conda-env-cohortney_v2-py"
  },
  "language_info": {
   "codemirror_mode": {
    "name": "ipython",
    "version": 3
   },
   "file_extension": ".py",
   "mimetype": "text/x-python",
   "name": "python",
   "nbconvert_exporter": "python",
   "pygments_lexer": "ipython3",
   "version": "3.8.8"
  }
 },
 "nbformat": 4,
 "nbformat_minor": 4
}
