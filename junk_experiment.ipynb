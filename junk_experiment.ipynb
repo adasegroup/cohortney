{
 "cells": [
  {
   "cell_type": "code",
   "execution_count": 1,
   "metadata": {},
   "outputs": [
    {
     "ename": "ModuleNotFoundError",
     "evalue": "No module named 'src.utils.os_utils'",
     "output_type": "error",
     "traceback": [
      "\u001b[0;31m---------------------------------------------------------------------------\u001b[0m",
      "\u001b[0;31mModuleNotFoundError\u001b[0m                       Traceback (most recent call last)",
      "\u001b[0;32m<ipython-input-1-bfd075655ee2>\u001b[0m in \u001b[0;36m<module>\u001b[0;34m\u001b[0m\n\u001b[1;32m      3\u001b[0m \u001b[0;32mimport\u001b[0m \u001b[0mnumpy\u001b[0m \u001b[0;32mas\u001b[0m \u001b[0mnp\u001b[0m\u001b[0;34m\u001b[0m\u001b[0;34m\u001b[0m\u001b[0m\n\u001b[1;32m      4\u001b[0m \u001b[0;32mfrom\u001b[0m \u001b[0msrc\u001b[0m\u001b[0;34m.\u001b[0m\u001b[0mutils\u001b[0m\u001b[0;34m.\u001b[0m\u001b[0mmetrics\u001b[0m \u001b[0;32mimport\u001b[0m \u001b[0mpurity\u001b[0m\u001b[0;34m,\u001b[0m \u001b[0minfo_score\u001b[0m\u001b[0;34m\u001b[0m\u001b[0;34m\u001b[0m\u001b[0m\n\u001b[0;32m----> 5\u001b[0;31m \u001b[0;32mfrom\u001b[0m \u001b[0msrc\u001b[0m\u001b[0;34m.\u001b[0m\u001b[0mutils\u001b[0m\u001b[0;34m.\u001b[0m\u001b[0mos_utils\u001b[0m \u001b[0;32mimport\u001b[0m \u001b[0mcreate_folder\u001b[0m\u001b[0;34m\u001b[0m\u001b[0;34m\u001b[0m\u001b[0m\n\u001b[0m\u001b[1;32m      6\u001b[0m \u001b[0;32mimport\u001b[0m \u001b[0mmath\u001b[0m\u001b[0;34m\u001b[0m\u001b[0;34m\u001b[0m\u001b[0m\n\u001b[1;32m      7\u001b[0m \u001b[0;32mfrom\u001b[0m \u001b[0msklearn\u001b[0m\u001b[0;34m.\u001b[0m\u001b[0mcluster\u001b[0m \u001b[0;32mimport\u001b[0m \u001b[0mKMeans\u001b[0m\u001b[0;34m\u001b[0m\u001b[0;34m\u001b[0m\u001b[0m\n",
      "\u001b[0;31mModuleNotFoundError\u001b[0m: No module named 'src.utils.os_utils'"
     ]
    }
   ],
   "source": [
    "import torch\n",
    "import time\n",
    "import numpy as np\n",
    "from src.utils.metrics import purity, info_score\n",
    "from src.utils.os_utils import create_folder\n",
    "import math\n",
    "from sklearn.cluster import KMeans\n",
    "from src.networks.lstm_pp import LSTMMultiplePointProcesses \n",
    "from src.dataset.random_seq import RandomGeneratedSequences\n",
    "from junk_trainer import TrainerClusterwise"
   ]
  },
  {
   "cell_type": "code",
   "execution_count": null,
   "metadata": {},
   "outputs": [],
   "source": [
    "path = 'src/dataset/sin_K2_C5/'\n",
    "n_steps = 8\n",
    "n_clusters = 10\n",
    "n_runs = 10\n",
    "n_events = 7\n",
    "dataset = RandomGeneratedSequences(path, num_of_event_types=n_events, num_of_steps=n_steps)\n",
    "device = torch.device('cuda:6' if torch.cuda.is_available() else 'cpu')"
   ]
  },
  {
   "cell_type": "code",
   "execution_count": 3,
   "metadata": {},
   "outputs": [],
   "source": [
    "data, target = [], []\n",
    "for x, y in dataset:\n",
    "    data.append(x), target.append(y)\n",
    "data = torch.stack(data)\n",
    "target = torch.stack(target)"
   ]
  },
  {
   "cell_type": "code",
   "execution_count": null,
   "metadata": {},
   "outputs": [],
   "source": [
    "# preparing folders\n",
    "create_folder('experiments')\n",
    "exp_folder = 'experiments/'\n",
    "create_folder('experiments/results')\n",
    "path_to_results = 'experiments/results'\n",
    "\n",
    "# iterations over runs\n",
    "i = 0\n",
    "while i < n_runs:\n",
    "    model = LSTMMultiplePointProcesses(input_size=n_events+1, hidden_size=20, num_layers=3, num_classes=n_events, num_clusters=n_clusters, n_steps=n_steps).to(device) \n",
    "    optimizer = torch.optim.Adam(model.parameters()) \n",
    "    best_model_path = path_to_results + '/exp_{}'.format(i) + '/best_model.pt'\n",
    "    create_folder(path_to_results + '/exp_{}'.format(i))\n",
    "    exp_folder = path_to_results + '/exp_{}'.format(i)\n",
    "    trainer = TrainerClusterwise(model, optimizer, device, data, n_clusters, target=target)\n",
    "    losses, results, cluster_part, stats = trainer.train()\n",
    "\n",
    "    # results check\n",
    "    if cluster_part is None:\n",
    "        print('Solution failed')\n",
    "        continue\n",
    "\n",
    "    # saving results\n",
    "    with open(exp_folder + '/losses.pkl', 'wb') as f:\n",
    "        pickle.dump(losses, f)\n",
    "    with open(exp_folder + '/results.pkl', 'wb') as f:\n",
    "        pickle.dump(results, f)\n",
    "    with open(exp_folder + '/stats.pkl', 'wb') as f:\n",
    "        pickle.dump(stats, f)\n",
    "    with open(exp_folder + '/args.json', 'w') as f:\n",
    "        json.dump(vars(args), f)\n",
    "    torch.save(trainer.model, exp_folder + '/last_model.pt')\n",
    "    i += 1"
   ]
  },
  {
   "cell_type": "code",
   "execution_count": null,
   "metadata": {},
   "outputs": [],
   "source": []
  }
 ],
 "metadata": {
  "kernelspec": {
   "display_name": "myenv",
   "language": "python",
   "name": "myenv"
  },
  "language_info": {
   "codemirror_mode": {
    "name": "ipython",
    "version": 3
   },
   "file_extension": ".py",
   "mimetype": "text/x-python",
   "name": "python",
   "nbconvert_exporter": "python",
   "pygments_lexer": "ipython3",
   "version": "3.7.9"
  }
 },
 "nbformat": 4,
 "nbformat_minor": 4
}
